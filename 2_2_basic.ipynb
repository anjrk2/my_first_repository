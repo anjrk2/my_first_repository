{
 "cells": [
  {
   "cell_type": "code",
   "execution_count": 23,
   "id": "e9d87579",
   "metadata": {},
   "outputs": [],
   "source": [
    "members = [\n",
    "    {\n",
    "        '성': '김',\n",
    "        '이름': '이팝',\n",
    "        '소속': '나무팀',\n",
    "        '국적': '대한민국',\n",
    "        '나이': 40,\n",
    "    },\n",
    "    {\n",
    "        '성': '김',\n",
    "        '이름': '단풍',\n",
    "        '소속': '나무팀',\n",
    "        '국적': '대한민국',\n",
    "        '나이': 29,\n",
    "    },\n",
    "    {\n",
    "        '성': '이',\n",
    "        '이름': '버들',\n",
    "        '소속': '나무팀',\n",
    "        '국적': '대한민국',\n",
    "        '나이': 30,\n",
    "    },\n",
    "    {\n",
    "        '성': '박',\n",
    "        '이름': '바오밥',\n",
    "        '소속': '나무팀',\n",
    "        '국적': '대한민국',\n",
    "        '나이': 27,\n",
    "    },\n",
    "    {\n",
    "        '성': 'May',\n",
    "        '이름': 'Blossom',\n",
    "        '소속': '나무팀',\n",
    "        '국적': '미국',\n",
    "        '나이': 28,\n",
    "    },\n",
    "    {\n",
    "        '성': '김',\n",
    "        '이름': '샤프란',\n",
    "        '소속': '꽃팀',\n",
    "        '국적': '대한민국',\n",
    "        '나이': 42,\n",
    "    },\n",
    "    {\n",
    "        '성': '김',\n",
    "        '이름': '튤립',\n",
    "        '소속': '꽃팀',\n",
    "        '국적': '대한민국',\n",
    "        '나이': 37,\n",
    "    },\n",
    "    {\n",
    "        '성': '박',\n",
    "        '이름': '수선화',\n",
    "        '소속': '꽃팀',\n",
    "        '국적': '대한민국',\n",
    "        '나이': 33,\n",
    "    },\n",
    "    {\n",
    "        '성': '박',\n",
    "        '이름': '앵초',\n",
    "        '소속': '꽃팀',\n",
    "        '국적': '대한민국',\n",
    "        '나이': 28,\n",
    "    },\n",
    "    {\n",
    "        '성': 'Sharon',\n",
    "        '이름': 'Rose',\n",
    "        '소속': '꽃팀',\n",
    "        '국적': '미국',\n",
    "        '나이': 23,\n",
    "    },\n",
    "    {\n",
    "        '성': '최',\n",
    "        '이름': '매실',\n",
    "        '소속': '열매팀',\n",
    "        '국적': '대한민국',\n",
    "        '나이': 50,\n",
    "    },\n",
    "    {\n",
    "        '성': '이',\n",
    "        '이름': '자두',\n",
    "        '소속': '열매팀',\n",
    "        '국적': '대한민국',\n",
    "        '나이': 33,\n",
    "    },\n",
    "    {\n",
    "        '성': '임',\n",
    "        '이름': '키위',\n",
    "        '소속': '열매팀',\n",
    "        '국적': '대한민국',\n",
    "        '나이': 26,\n",
    "    },\n",
    "]"
   ]
  },
  {
   "cell_type": "code",
   "execution_count": 24,
   "id": "2083ecfe",
   "metadata": {},
   "outputs": [
    {
     "name": "stdout",
     "output_type": "stream",
     "text": [
      "안녕하세요, 저는 파릇파릇한 나무팀의 김이팝입니다\n",
      "안녕하세요, 저는 파릇파릇한 나무팀의 김단풍입니다\n",
      "안녕하세요, 저는 파릇파릇한 나무팀의 이버들입니다\n",
      "안녕하세요, 저는 파릇파릇한 나무팀의 박바오밥입니다\n",
      "안녕하세요, 저는 파릇파릇한 나무팀의 MayBlossom입니다\n",
      "안녕하세요, 저는 향긋한 꽃팀의 김샤프란입니다.\n",
      "안녕하세요, 저는 향긋한 꽃팀의 김튤립입니다.\n",
      "안녕하세요, 저는 향긋한 꽃팀의 박수선화입니다.\n",
      "안녕하세요, 저는 향긋한 꽃팀의 박앵초입니다.\n",
      "안녕하세요, 저는 향긋한 꽃팀의 SharonRose입니다.\n"
     ]
    }
   ],
   "source": [
    "for member in members:\n",
    "    if member['소속'] == '나무팀':\n",
    "        print(\"안녕하세요, 저는 파릇파릇한 나무팀의 {}{}입니다\".format(member['성'], member['이름']))\n",
    "        \n",
    "    elif member['소속'] == '꽃팀':\n",
    "        print(\"안녕하세요, 저는 향긋한 꽃팀의 {}{}입니다.\".format(member['성'], member['이름']))"
   ]
  },
  {
   "cell_type": "code",
   "execution_count": 25,
   "id": "dbc2f945",
   "metadata": {},
   "outputs": [
    {
     "name": "stdout",
     "output_type": "stream",
     "text": [
      "안녕하세요. 저는 파릇파릇한 나무팀의 김이팝입니다.\n",
      "안녕하세요. 저는 파릇파릇한 나무팀의 김단풍입니다.\n",
      "안녕하세요. 저는 파릇파릇한 나무팀의 이버들입니다.\n",
      "안녕하세요. 저는 파릇파릇한 나무팀의 박바오밥입니다.\n",
      "안녕하세요. 저는 파릇파릇한 나무팀의 Blossom May입니다\n",
      "안녕하세요. 저는 향긋한 꽃팀의 김샤프란입니다\n",
      "안녕하세요. 저는 향긋한 꽃팀의 김튤립입니다\n",
      "안녕하세요. 저는 향긋한 꽃팀의 박수선화입니다\n",
      "안녕하세요. 저는 향긋한 꽃팀의 박앵초입니다\n",
      "안녕하세요. 저는 향긋한 꽃팀의 Rose Sharon입니다.\n"
     ]
    }
   ],
   "source": [
    "for member in members:\n",
    "    if member['소속'] == '나무팀':\n",
    "        if member['국적'] == '대한민국':\n",
    "            print(\"안녕하세요. 저는 파릇파릇한 나무팀의 {}{}입니다.\".format(member['성'], member['이름']))\n",
    "            \n",
    "        else:\n",
    "            print(\"안녕하세요. 저는 파릇파릇한 나무팀의 {} {}입니다\".format(member['이름'], member['성']))\n",
    "            \n",
    "    elif member['소속'] == '꽃팀':\n",
    "            if member['국적'] == '대한민국':\n",
    "                print(\"안녕하세요. 저는 향긋한 꽃팀의 {}{}입니다\".format(member['성'], member['이름']))\n",
    "                \n",
    "            else:\n",
    "                print(\"안녕하세요. 저는 향긋한 꽃팀의 {} {}입니다.\".format(member['이름'], member['성']))"
   ]
  },
  {
   "cell_type": "code",
   "execution_count": 26,
   "id": "2b992390",
   "metadata": {},
   "outputs": [],
   "source": [
    "team_prefix = {\n",
    "    '나무팀': '파릇파릇한',\n",
    "    '꽃팀': '향긋한',\n",
    "    '열매팀': '달콤한',\n",
    "}"
   ]
  },
  {
   "cell_type": "code",
   "execution_count": 27,
   "id": "5179c934",
   "metadata": {},
   "outputs": [
    {
     "name": "stdout",
     "output_type": "stream",
     "text": [
      "안녕하세요, 저는 파릇파릇한 나무팀의 김이팝 입니다.\n",
      "안녕하세요, 저는 파릇파릇한 나무팀의 김단풍 입니다.\n",
      "안녕하세요, 저는 파릇파릇한 나무팀의 이버들 입니다.\n",
      "안녕하세요, 저는 파릇파릇한 나무팀의 박바오밥 입니다.\n",
      "안녕하세요, 저는 파릇파릇한 나무팀의 Blossom May입니다.\n",
      "안녕하세요, 저는 향긋한 꽃팀의 김샤프란 입니다.\n",
      "안녕하세요, 저는 향긋한 꽃팀의 김튤립 입니다.\n",
      "안녕하세요, 저는 향긋한 꽃팀의 박수선화 입니다.\n",
      "안녕하세요, 저는 향긋한 꽃팀의 박앵초 입니다.\n",
      "안녕하세요, 저는 향긋한 꽃팀의 Rose Sharon입니다.\n",
      "안녕하세요, 저는 달콤한 열매팀의 최매실 입니다.\n",
      "안녕하세요, 저는 달콤한 열매팀의 이자두 입니다.\n",
      "안녕하세요, 저는 달콤한 열매팀의 임키위 입니다.\n"
     ]
    }
   ],
   "source": [
    "for member in members:\n",
    "    if member['국적'] == '대한민국':\n",
    "        print(\"안녕하세요, 저는 {} {}의 {}{} 입니다.\".format(\n",
    "            team_prefix[member['소속']],\n",
    "            member['소속'],\n",
    "            member['성'],\n",
    "            member['이름']))\n",
    "        \n",
    "    else:\n",
    "        print(\"안녕하세요, 저는 {} {}의 {} {}입니다.\".format(\n",
    "            team_prefix[member['소속']],\n",
    "            member['소속'],\n",
    "            member['이름'],\n",
    "            member['성']))"
   ]
  },
  {
   "cell_type": "code",
   "execution_count": 28,
   "id": "3976705b",
   "metadata": {},
   "outputs": [
    {
     "name": "stdout",
     "output_type": "stream",
     "text": [
      "The answer is...NO\n"
     ]
    }
   ],
   "source": [
    "def is_error_code(message, answer=\"NO\"):\n",
    "    return message + answer\n",
    "\n",
    "print(is_error_code(message=\"The answer is...\", ))"
   ]
  },
  {
   "cell_type": "code",
   "execution_count": null,
   "id": "68844f43",
   "metadata": {},
   "outputs": [],
   "source": []
  }
 ],
 "metadata": {
  "kernelspec": {
   "display_name": "Python 3 (ipykernel)",
   "language": "python",
   "name": "python3"
  },
  "language_info": {
   "codemirror_mode": {
    "name": "ipython",
    "version": 3
   },
   "file_extension": ".py",
   "mimetype": "text/x-python",
   "name": "python",
   "nbconvert_exporter": "python",
   "pygments_lexer": "ipython3",
   "version": "3.10.8"
  }
 },
 "nbformat": 4,
 "nbformat_minor": 5
}
